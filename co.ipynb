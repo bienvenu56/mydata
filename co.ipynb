{
 "cells": [
  {
   "cell_type": "code",
   "execution_count": null,
   "id": "7366c709",
   "metadata": {
    "vscode": {
     "languageId": "plaintext"
    }
   },
   "outputs": [],
   "source": [
    "import pandas as pd\n",
    "from sklearn.model_selection import train_test_split\n",
    "from sklearn.linear_model import LinearRegression\n",
    "from sklearn.metrics import mean_squared_error, r2_score\n",
    "import matplotlib.pyplot as plt\n",
    "import joblib\n",
    "\n",
    "# Charger les données\n",
    "data = pd.read_csv(\"laptop_prices.csv\")\n",
    "\n",
    "# Visualiser données avant régression\n",
    "plt.scatter(data[\"ram_gb\"], data[\"price\"], color='blue')\n",
    "plt.xlabel(\"RAM (GB)\")\n",
    "plt.ylabel(\"Prix\")\n",
    "plt.title(\"Prix vs RAM avant régression\")\n",
    "plt.show()\n",
    "\n",
    "# Préparation des données\n",
    "X = data[[\"ram_gb\", \"storage_gb\", \"cpu_speed_ghz\"]]\n",
    "y = data[\"price\"]\n",
    "\n",
    "# Split\n",
    "X_train, X_test, y_train, y_test = train_test_split(X, y, test_size=0.2, random_state=42)\n",
    "\n",
    "# Entraîner le modèle\n",
    "model = LinearRegression()\n",
    "model.fit(X_train, y_train)\n",
    "\n",
    "# Prédictions\n",
    "y_pred = model.predict(X_test)\n",
    "\n",
    "# Évaluation\n",
    "mse = mean_squared_error(y_test, y_pred)\n",
    "r2 = r2_score(y_test, y_pred)\n",
    "print(f\"Mean Squared Error: {mse:.2f}\")\n",
    "print(f\"R² Score: {r2:.2f}\")\n",
    "\n",
    "# Visualiser données après régression\n",
    "plt.scatter(y_test, y_pred, color='green')\n",
    "plt.xlabel(\"Prix Réel\")\n",
    "plt.ylabel(\"Prix Prédit\")\n",
    "plt.title(\"Prix Réel vs Prix Prédit après régression\")\n",
    "plt.plot([y_test.min(), y_test.max()], [y_test.min(), y_test.max()], 'r--')\n",
    "plt.show()\n",
    "\n",
    "# Sauvegarde\n",
    "#joblib.dump(model, \"laptop_price_model.pkl\")\n",
    "\n"
   ]
  }
 ],
 "metadata": {
  "language_info": {
   "name": "python"
  }
 },
 "nbformat": 4,
 "nbformat_minor": 5
}
